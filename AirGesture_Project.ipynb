{
 "cells": [
  {
   "cell_type": "markdown",
   "id": "0139fa54-2267-47b1-bcd5-5697709889b4",
   "metadata": {},
   "source": [
    "# ✋ Air Gesture Control Project\n",
    "\n",
    "This project allows you to control your computer using hand gestures — without touching anything!  \n",
    "It uses your webcam and hand-tracking AI (MediaPipe) to detect and interpret gestures.\n",
    "\n",
    "---\n",
    "\n",
    "## 🔧 Tools Used\n",
    "\n",
    "- Python  \n",
    "- OpenCV (for webcam access)  \n",
    "- MediaPipe (for hand detection)  \n",
    "- PyAutoGUI (to control the computer)  \n",
    "- NumPy (for calculations)\n",
    "\n",
    "---\n",
    "\n",
    "## 📂 Files Included\n",
    "\n",
    "- `gesture_control.ipynb` — Jupyter Notebook with the main code  \n",
    "- `requirements.txt` — List of required Python libraries\n",
    "\n",
    "---\n",
    "\n",
    "## 🚀 How to Run\n",
    "\n",
    "### 1. Install Required Libraries\n",
    "\n",
    "Open your terminal or command prompt and run:\n",
    "\n",
    "```bash\n",
    "pip install -r requirements.txt\n"
   ]
  },
  {
   "cell_type": "code",
   "execution_count": null,
   "id": "a1b44b89-6478-4499-af7f-146cfdbd5d59",
   "metadata": {},
   "outputs": [],
   "source": [
    "jupyter notebook gesture_control.ipynb\n"
   ]
  },
  {
   "cell_type": "code",
   "execution_count": null,
   "id": "6c561bf8-0aea-493e-8598-5e07cdd0a5ee",
   "metadata": {},
   "outputs": [],
   "source": []
  }
 ],
 "metadata": {
  "kernelspec": {
   "display_name": "Python [conda env:base] *",
   "language": "python",
   "name": "conda-base-py"
  },
  "language_info": {
   "name": ""
  }
 },
 "nbformat": 4,
 "nbformat_minor": 5
}
