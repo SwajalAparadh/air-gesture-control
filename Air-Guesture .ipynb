{
 "cells": [
  {
   "cell_type": "markdown",
   "id": "c4bfcf42-2c0e-400e-a3b5-26d4b958f775",
   "metadata": {},
   "source": [
    "# Libraries install "
   ]
  },
  {
   "cell_type": "code",
   "execution_count": 2,
   "id": "f5f9178e-75bb-4ae4-87b1-24a3e0453622",
   "metadata": {},
   "outputs": [
    {
     "name": "stdout",
     "output_type": "stream",
     "text": [
      "Requirement already satisfied: opencv-python in c:\\users\\swaja\\anaconda3\\lib\\site-packages (4.11.0.86)\n",
      "Requirement already satisfied: mediapipe in c:\\users\\swaja\\anaconda3\\lib\\site-packages (0.10.21)\n",
      "Requirement already satisfied: pyautogui in c:\\users\\swaja\\anaconda3\\lib\\site-packages (0.9.54)\n",
      "Requirement already satisfied: numpy in c:\\users\\swaja\\anaconda3\\lib\\site-packages (1.26.4)\n",
      "Requirement already satisfied: absl-py in c:\\users\\swaja\\anaconda3\\lib\\site-packages (from mediapipe) (2.3.0)\n",
      "Requirement already satisfied: attrs>=19.1.0 in c:\\users\\swaja\\anaconda3\\lib\\site-packages (from mediapipe) (25.3.0)\n",
      "Requirement already satisfied: flatbuffers>=2.0 in c:\\users\\swaja\\anaconda3\\lib\\site-packages (from mediapipe) (25.2.10)\n",
      "Requirement already satisfied: jax in c:\\users\\swaja\\anaconda3\\lib\\site-packages (from mediapipe) (0.6.1)\n",
      "Requirement already satisfied: jaxlib in c:\\users\\swaja\\anaconda3\\lib\\site-packages (from mediapipe) (0.6.1)\n",
      "Requirement already satisfied: matplotlib in c:\\users\\swaja\\anaconda3\\lib\\site-packages (from mediapipe) (3.9.2)\n",
      "Requirement already satisfied: opencv-contrib-python in c:\\users\\swaja\\anaconda3\\lib\\site-packages (from mediapipe) (4.11.0.86)\n",
      "Requirement already satisfied: protobuf<5,>=4.25.3 in c:\\users\\swaja\\anaconda3\\lib\\site-packages (from mediapipe) (4.25.3)\n",
      "Requirement already satisfied: sounddevice>=0.4.4 in c:\\users\\swaja\\anaconda3\\lib\\site-packages (from mediapipe) (0.5.2)\n",
      "Requirement already satisfied: sentencepiece in c:\\users\\swaja\\anaconda3\\lib\\site-packages (from mediapipe) (0.2.0)\n",
      "Requirement already satisfied: pymsgbox in c:\\users\\swaja\\anaconda3\\lib\\site-packages (from pyautogui) (1.0.9)\n",
      "Requirement already satisfied: pytweening>=1.0.4 in c:\\users\\swaja\\anaconda3\\lib\\site-packages (from pyautogui) (1.2.0)\n",
      "Requirement already satisfied: pyscreeze>=0.1.21 in c:\\users\\swaja\\anaconda3\\lib\\site-packages (from pyautogui) (1.0.1)\n",
      "Requirement already satisfied: pygetwindow>=0.0.5 in c:\\users\\swaja\\anaconda3\\lib\\site-packages (from pyautogui) (0.0.9)\n",
      "Requirement already satisfied: mouseinfo in c:\\users\\swaja\\anaconda3\\lib\\site-packages (from pyautogui) (0.1.3)\n",
      "Requirement already satisfied: pyrect in c:\\users\\swaja\\anaconda3\\lib\\site-packages (from pygetwindow>=0.0.5->pyautogui) (0.2.0)\n",
      "Requirement already satisfied: CFFI>=1.0 in c:\\users\\swaja\\anaconda3\\lib\\site-packages (from sounddevice>=0.4.4->mediapipe) (1.17.1)\n",
      "Requirement already satisfied: ml_dtypes>=0.5.0 in c:\\users\\swaja\\anaconda3\\lib\\site-packages (from jax->mediapipe) (0.5.1)\n",
      "Requirement already satisfied: opt_einsum in c:\\users\\swaja\\anaconda3\\lib\\site-packages (from jax->mediapipe) (3.4.0)\n",
      "Requirement already satisfied: scipy>=1.11.1 in c:\\users\\swaja\\anaconda3\\lib\\site-packages (from jax->mediapipe) (1.13.1)\n",
      "Requirement already satisfied: contourpy>=1.0.1 in c:\\users\\swaja\\anaconda3\\lib\\site-packages (from matplotlib->mediapipe) (1.2.0)\n",
      "Requirement already satisfied: cycler>=0.10 in c:\\users\\swaja\\anaconda3\\lib\\site-packages (from matplotlib->mediapipe) (0.11.0)\n",
      "Requirement already satisfied: fonttools>=4.22.0 in c:\\users\\swaja\\anaconda3\\lib\\site-packages (from matplotlib->mediapipe) (4.51.0)\n",
      "Requirement already satisfied: kiwisolver>=1.3.1 in c:\\users\\swaja\\anaconda3\\lib\\site-packages (from matplotlib->mediapipe) (1.4.4)\n",
      "Requirement already satisfied: packaging>=20.0 in c:\\users\\swaja\\anaconda3\\lib\\site-packages (from matplotlib->mediapipe) (24.1)\n",
      "Requirement already satisfied: pillow>=8 in c:\\users\\swaja\\anaconda3\\lib\\site-packages (from matplotlib->mediapipe) (10.4.0)\n",
      "Requirement already satisfied: pyparsing>=2.3.1 in c:\\users\\swaja\\anaconda3\\lib\\site-packages (from matplotlib->mediapipe) (3.1.2)\n",
      "Requirement already satisfied: python-dateutil>=2.7 in c:\\users\\swaja\\anaconda3\\lib\\site-packages (from matplotlib->mediapipe) (2.9.0.post0)\n",
      "Requirement already satisfied: pyperclip in c:\\users\\swaja\\anaconda3\\lib\\site-packages (from mouseinfo->pyautogui) (1.9.0)\n",
      "Requirement already satisfied: pycparser in c:\\users\\swaja\\anaconda3\\lib\\site-packages (from CFFI>=1.0->sounddevice>=0.4.4->mediapipe) (2.21)\n",
      "Requirement already satisfied: six>=1.5 in c:\\users\\swaja\\anaconda3\\lib\\site-packages (from python-dateutil>=2.7->matplotlib->mediapipe) (1.16.0)\n",
      "Note: you may need to restart the kernel to use updated packages.\n"
     ]
    }
   ],
   "source": [
    "pip install opencv-python mediapipe pyautogui numpy"
   ]
  },
  {
   "cell_type": "code",
   "execution_count": 6,
   "id": "291bb352-3cea-4339-8181-4bb649581cd1",
   "metadata": {},
   "outputs": [
    {
     "name": "stdout",
     "output_type": "stream",
     "text": [
      "All libraries are working\n"
     ]
    }
   ],
   "source": [
    "import cv2 #webcam open\n",
    "import mediapipe as mp #Hand guesture detect\n",
    "import pyautogui # system level (Music, video, volume)\n",
    "import numpy as np\n",
    "\n",
    "print(\"All libraries are working\")"
   ]
  },
  {
   "cell_type": "code",
   "execution_count": null,
   "id": "58ea9e91-faac-4550-80cd-75cd33f2980d",
   "metadata": {},
   "outputs": [],
   "source": [
    "import cv2\n",
    "import mediapipe as mp\n",
    "\n",
    "# Initialize MediaPipe\n",
    "mp_hands = mp.solutions.hands\n",
    "mp_draw = mp.solutions.drawing_utils\n",
    "hands = mp_hands.Hands()  # Default setup\n",
    "\n",
    "# Open webcam\n",
    "cap = cv2.VideoCapture(0) #webcam open\n",
    "\n",
    "while True:\n",
    "    success, img = cap.read()  # Read frame from webcam (image verification)\n",
    "    img_rgb = cv2.cvtColor(img, cv2.COLOR_BGR2RGB)  # Convert BGR to RGB (color conversion)\n",
    "    results = hands.process(img_rgb)  # Process the image to find hands\n",
    "\n",
    "    if results.multi_hand_landmarks:\n",
    "        for hand_landmarks in results.multi_hand_landmarks: #hand detection or landmark\n",
    "            mp_draw.draw_landmarks(img, hand_landmarks, mp_hands.HAND_CONNECTIONS) # draw hand landmark\n",
    "\n",
    "    cv2.imshow(\"Hand Tracking\", img) #Hand and image will show\n",
    "\n",
    "    # Press 'q' to exit the loop\n",
    "    if cv2.waitKey(1) & 0xFF == ord('q'):\n",
    "        break\n",
    "\n",
    "cap.release() # release the webcam\n",
    "cv2.destroyAllWindows() # close all windows\n"
   ]
  },
  {
   "cell_type": "code",
   "execution_count": null,
   "id": "490d81bf-6dbb-4924-8fd3-7fbfc3e6cd28",
   "metadata": {},
   "outputs": [],
   "source": [
    "import cv2\n",
    "import mediapipe as mp\n",
    "import pyautogui\n",
    "import time\n",
    "\n",
    "# Initialize MediaPipe Hands\n",
    "mp_hands = mp.solutions.hands\n",
    "mp_draw = mp.solutions.drawing_utils\n",
    "hands = mp_hands.Hands(max_num_hands=1)  # Track only one hand for simplicity\n",
    "\n",
    "cap = cv2.VideoCapture(0)\n",
    "prev_action_time = 0\n",
    "\n",
    "def fingers_up(hand_landmarks):\n",
    "    \"\"\"\n",
    "    Detect which fingers are up based on landmark positions.\n",
    "    Returns list of 5 values (1 if finger is up else 0).\n",
    "    Thumb is special case; here we check vertical position.\n",
    "    \"\"\"\n",
    "    tips_ids = [4, 8, 12, 16, 20]\n",
    "    fingers = []\n",
    "\n",
    "    # Thumb: Compare tip and joint x position (for right hand)\n",
    "    if hand_landmarks.landmark[tips_ids[0]].x < hand_landmarks.landmark[tips_ids[0] - 1].x:\n",
    "        fingers.append(1)\n",
    "    else:\n",
    "        fingers.append(0)\n",
    "\n",
    "    # Fingers: Tip y < PIP y means finger is up\n",
    "    for id in range(1,5):\n",
    "        if hand_landmarks.landmark[tips_ids[id]].y < hand_landmarks.landmark[tips_ids[id]-2].y:\n",
    "            fingers.append(1)\n",
    "        else:\n",
    "            fingers.append(0)\n",
    "    return fingers\n",
    "\n",
    "while True:\n",
    "    success, img = cap.read()\n",
    "    img_rgb = cv2.cvtColor(img, cv2.COLOR_BGR2RGB)\n",
    "    results = hands.process(img_rgb)\n",
    "\n",
    "    if results.multi_hand_landmarks:\n",
    "        hand_landmarks = results.multi_hand_landmarks[0]\n",
    "        mp_draw.draw_landmarks(img, hand_landmarks, mp_hands.HAND_CONNECTIONS)\n",
    "\n",
    "        fingers = fingers_up(hand_landmarks)\n",
    "\n",
    "        # Check if all fingers are up (open palm)\n",
    "        if fingers == [1,1,1,1,1]:\n",
    "            cv2.putText(img, \"Open Palm Detected - Play/Pause\", (10,70), cv2.FONT_HERSHEY_SIMPLEX, 1, (0,255,0), 2)\n",
    "            # Press space every 1 second to avoid multiple triggers\n",
    "            if time.time() - prev_action_time > 1:\n",
    "                pyautogui.press('space')\n",
    "                prev_action_time = time.time()\n",
    "\n",
    "        # Check if all fingers are down (fist)\n",
    "        elif fingers == [0,0,0,0,0]:\n",
    "            cv2.putText(img, \"Fist Detected - Stop\", (10,70), cv2.FONT_HERSHEY_SIMPLEX, 1, (0,0,255), 2)\n",
    "            # For demo, we just print or can trigger other action\n",
    "            # You can define any action here\n",
    "\n",
    "    cv2.imshow(\"Gesture Control\", img)\n",
    "\n",
    "    if cv2.waitKey(1) & 0xFF == ord('q'):\n",
    "        break\n",
    "\n",
    "cap.release()\n",
    "cv2.destroyAllWindows()\n"
   ]
  },
  {
   "cell_type": "code",
   "execution_count": null,
   "id": "242a07fa-b4cb-4d9c-8456-e8b74be177c6",
   "metadata": {},
   "outputs": [],
   "source": [
    "pip install pyinstaller\n",
    "pyinstaller --onefile your_script.py\n"
   ]
  },
  {
   "cell_type": "code",
   "execution_count": null,
   "id": "9d6bacfe-d129-4770-85fd-02886a5760fb",
   "metadata": {},
   "outputs": [],
   "source": [
    "pyinstaller --onefile --windowed --icon=youricon.ico gesture_control.py\n"
   ]
  },
  {
   "cell_type": "code",
   "execution_count": null,
   "id": "30e6177c-f6d1-4154-a856-e4a19732d5db",
   "metadata": {},
   "outputs": [],
   "source": []
  }
 ],
 "metadata": {
  "kernelspec": {
   "display_name": "Python [conda env:base] *",
   "language": "python",
   "name": "conda-base-py"
  },
  "language_info": {
   "codemirror_mode": {
    "name": "ipython",
    "version": 3
   },
   "file_extension": ".py",
   "mimetype": "text/x-python",
   "name": "python",
   "nbconvert_exporter": "python",
   "pygments_lexer": "ipython3",
   "version": "3.12.7"
  }
 },
 "nbformat": 4,
 "nbformat_minor": 5
}
